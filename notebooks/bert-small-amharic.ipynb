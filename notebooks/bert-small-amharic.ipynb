{
  "cells": [
    {
      "cell_type": "code",
      "execution_count": null,
      "metadata": {},
      "outputs": [],
      "source": [
        "from datasets import load_dataset\n",
        "from transformers import AutoTokenizer, DataCollatorWithPadding\n",
        "\n",
        "import warnings\n",
        "warnings.filterwarnings(\"ignore\")"
      ]
    },
    {
      "cell_type": "code",
      "execution_count": 11,
      "metadata": {},
      "outputs": [
        {
          "ename": "ModuleNotFoundError",
          "evalue": "No module named 'joblib'",
          "output_type": "error",
          "traceback": [
            "\u001b[0;31m---------------------------------------------------------------------------\u001b[0m",
            "\u001b[0;31mModuleNotFoundError\u001b[0m                       Traceback (most recent call last)",
            "Cell \u001b[0;32mIn[11], line 1\u001b[0m\n\u001b[0;32m----> 1\u001b[0m \u001b[38;5;28;01mfrom\u001b[39;00m \u001b[38;5;21;01mjoblib\u001b[39;00m \u001b[38;5;28;01mimport\u001b[39;00m Path\n\u001b[1;32m      2\u001b[0m \u001b[38;5;28;01mfrom\u001b[39;00m \u001b[38;5;21;01mscripts\u001b[39;00m\u001b[38;5;21;01m.\u001b[39;00m\u001b[38;5;21;01mutils\u001b[39;00m \u001b[38;5;28;01mimport\u001b[39;00m calculate_length, normalize_char_level_missmatch\n",
            "\u001b[0;31mModuleNotFoundError\u001b[0m: No module named 'joblib'"
          ]
        }
      ],
      "source": [
        "from scripts.utils import calculate_length, preprocess_article"
      ]
    },
    {
      "cell_type": "code",
      "execution_count": 9,
      "metadata": {
        "colab": {
          "referenced_widgets": [
            "2d8601d8fa6949dd90a7555108e82f7e"
          ]
        },
        "execution": {
          "iopub.execute_input": "2024-05-30T14:20:22.516890Z",
          "iopub.status.busy": "2024-05-30T14:20:22.515888Z",
          "iopub.status.idle": "2024-05-30T14:20:32.271734Z",
          "shell.execute_reply": "2024-05-30T14:20:32.270988Z",
          "shell.execute_reply.started": "2024-05-30T14:20:22.516854Z"
        },
        "id": "H-AfF9KLiJnz",
        "outputId": "3dcee90a-4864-4339-9871-af30c5d7b3c1",
        "trusted": true
      },
      "outputs": [
        {
          "ename": "NameError",
          "evalue": "name 'load_dataset' is not defined",
          "output_type": "error",
          "traceback": [
            "\u001b[0;31m---------------------------------------------------------------------------\u001b[0m",
            "\u001b[0;31mNameError\u001b[0m                                 Traceback (most recent call last)",
            "Cell \u001b[0;32mIn[9], line 1\u001b[0m\n\u001b[0;32m----> 1\u001b[0m data \u001b[38;5;241m=\u001b[39m \u001b[43mload_dataset\u001b[49m(\u001b[38;5;124m\"\u001b[39m\u001b[38;5;124mcsv\u001b[39m\u001b[38;5;124m\"\u001b[39m, data_files\u001b[38;5;241m=\u001b[39m\u001b[38;5;124m\"\u001b[39m\u001b[38;5;124m../data/data/Amharic_corpus_merged_2023-04-16.csv\u001b[39m\u001b[38;5;124m\"\u001b[39m)\n",
            "\u001b[0;31mNameError\u001b[0m: name 'load_dataset' is not defined"
          ]
        }
      ],
      "source": [
        "data = load_dataset(\"csv\", data_files=\"../data/data/Amharic_corpus_merged_2023-04-16.csv\")"
      ]
    },
    {
      "cell_type": "code",
      "execution_count": null,
      "metadata": {
        "execution": {
          "iopub.execute_input": "2024-05-30T14:20:32.274101Z",
          "iopub.status.busy": "2024-05-30T14:20:32.273664Z",
          "iopub.status.idle": "2024-05-30T14:20:32.280714Z",
          "shell.execute_reply": "2024-05-30T14:20:32.279815Z",
          "shell.execute_reply.started": "2024-05-30T14:20:32.274075Z"
        },
        "id": "pvVE6jzxiJn-",
        "outputId": "81341fb5-8427-44a3-f9cd-ac2a4a519749",
        "trusted": true
      },
      "outputs": [
        {
          "data": {
            "text/plain": [
              "DatasetDict({\n",
              "    train: Dataset({\n",
              "        features: ['article', 'category'],\n",
              "        num_rows: 61915\n",
              "    })\n",
              "})"
            ]
          },
          "execution_count": 7,
          "metadata": {},
          "output_type": "execute_result"
        }
      ],
      "source": [
        "data"
      ]
    },
    {
      "cell_type": "code",
      "execution_count": null,
      "metadata": {
        "colab": {
          "referenced_widgets": [
            "15db608d649c4f17ac5efff65788fd71",
            "751ad410e4c74955aef5a733b65bf926"
          ]
        },
        "execution": {
          "iopub.execute_input": "2024-05-30T14:20:32.281992Z",
          "iopub.status.busy": "2024-05-30T14:20:32.281727Z",
          "iopub.status.idle": "2024-05-30T14:21:25.637020Z",
          "shell.execute_reply": "2024-05-30T14:21:25.635984Z",
          "shell.execute_reply.started": "2024-05-30T14:20:32.281968Z"
        },
        "id": "lVHgDRw0iJn_",
        "outputId": "33d93b9b-5984-4863-b4c3-2bdd43a70d03",
        "trusted": true
      },
      "outputs": [
        {
          "data": {
            "application/vnd.jupyter.widget-view+json": {
              "model_id": "15db608d649c4f17ac5efff65788fd71",
              "version_major": 2,
              "version_minor": 0
            },
            "text/plain": [
              "Map:   0%|          | 0/61915 [00:00<?, ? examples/s]"
            ]
          },
          "metadata": {},
          "output_type": "display_data"
        },
        {
          "data": {
            "application/vnd.jupyter.widget-view+json": {
              "model_id": "751ad410e4c74955aef5a733b65bf926",
              "version_major": 2,
              "version_minor": 0
            },
            "text/plain": [
              "Map:   0%|          | 0/61915 [00:00<?, ? examples/s]"
            ]
          },
          "metadata": {},
          "output_type": "display_data"
        }
      ],
      "source": [
        "data['train'] = data['train'].map(calculate_length, batched=False)\n",
        "data['train'] = data['train'].map(preprocess_article, batched=False)"
      ]
    },
    {
      "cell_type": "code",
      "execution_count": null,
      "metadata": {
        "execution": {
          "iopub.execute_input": "2024-05-30T14:21:25.638663Z",
          "iopub.status.busy": "2024-05-30T14:21:25.638309Z",
          "iopub.status.idle": "2024-05-30T14:21:25.787472Z",
          "shell.execute_reply": "2024-05-30T14:21:25.786519Z",
          "shell.execute_reply.started": "2024-05-30T14:21:25.638632Z"
        },
        "id": "e6AZ3mWPiJoA",
        "trusted": true
      },
      "outputs": [],
      "source": [
        "raw_datasets = data['train'].train_test_split(train_size=0.8, seed=42)"
      ]
    },
    {
      "cell_type": "code",
      "execution_count": null,
      "metadata": {
        "execution": {
          "iopub.execute_input": "2024-05-30T14:21:25.789869Z",
          "iopub.status.busy": "2024-05-30T14:21:25.788920Z",
          "iopub.status.idle": "2024-05-30T14:21:26.010834Z",
          "shell.execute_reply": "2024-05-30T14:21:26.009892Z",
          "shell.execute_reply.started": "2024-05-30T14:21:25.789832Z"
        },
        "id": "qZc1187yiJoB",
        "trusted": true
      },
      "outputs": [],
      "source": [
        "category = list(set(data['train']['category']))\n",
        "\n",
        "checkpoint = \"rasyosef/bert-small-amharic\"\n",
        "tokenizer = AutoTokenizer.from_pretrained(checkpoint)\n",
        "\n",
        "# Tokenize the dataset\n",
        "category_to_id = {cat: idx for idx, cat in enumerate(category)}\n",
        "\n",
        "def tokenize_function(example):\n",
        "    inputs = tokenizer(example['article'], padding=True, truncation=True, max_length=512)\n",
        "    inputs[\"labels\"] = category_to_id[example[\"category\"]]  # Assuming category is already integer-encoded\n",
        "    return inputs\n",
        "\n"
      ]
    },
    {
      "cell_type": "code",
      "execution_count": null,
      "metadata": {
        "colab": {
          "referenced_widgets": [
            "bca72e4e593d4a1382d2d9b16fe37eaf",
            "f0073336b200468f9e14d05d0be56b2b",
            "5f82fce25f494425926be0ab0e5183a0",
            "e16efbd58a6241169acd66631268dd13",
            "8ceba03ca79941a398ad5657bbe765c7",
            "48a07e19134e4a1eb7040aa02bbfedcb"
          ]
        },
        "execution": {
          "iopub.execute_input": "2024-05-30T14:21:26.012250Z",
          "iopub.status.busy": "2024-05-30T14:21:26.011969Z",
          "iopub.status.idle": "2024-05-30T14:24:07.089243Z",
          "shell.execute_reply": "2024-05-30T14:24:07.088286Z",
          "shell.execute_reply.started": "2024-05-30T14:21:26.012219Z"
        },
        "id": "-6TPC4usiJoC",
        "outputId": "40af8d5f-47b4-4c22-9c8d-3ad6992cb43a",
        "trusted": true
      },
      "outputs": [
        {
          "name": "stderr",
          "output_type": "stream",
          "text": [
            "2024-05-30 14:21:33.434274: E external/local_xla/xla/stream_executor/cuda/cuda_dnn.cc:9261] Unable to register cuDNN factory: Attempting to register factory for plugin cuDNN when one has already been registered\n",
            "2024-05-30 14:21:33.434374: E external/local_xla/xla/stream_executor/cuda/cuda_fft.cc:607] Unable to register cuFFT factory: Attempting to register factory for plugin cuFFT when one has already been registered\n",
            "2024-05-30 14:21:33.589992: E external/local_xla/xla/stream_executor/cuda/cuda_blas.cc:1515] Unable to register cuBLAS factory: Attempting to register factory for plugin cuBLAS when one has already been registered\n"
          ]
        },
        {
          "data": {
            "application/vnd.jupyter.widget-view+json": {
              "model_id": "bca72e4e593d4a1382d2d9b16fe37eaf",
              "version_major": 2,
              "version_minor": 0
            },
            "text/plain": [
              "tokenizer_config.json:   0%|          | 0.00/1.23k [00:00<?, ?B/s]"
            ]
          },
          "metadata": {},
          "output_type": "display_data"
        },
        {
          "data": {
            "application/vnd.jupyter.widget-view+json": {
              "model_id": "f0073336b200468f9e14d05d0be56b2b",
              "version_major": 2,
              "version_minor": 0
            },
            "text/plain": [
              "vocab.txt:   0%|          | 0.00/223k [00:00<?, ?B/s]"
            ]
          },
          "metadata": {},
          "output_type": "display_data"
        },
        {
          "data": {
            "application/vnd.jupyter.widget-view+json": {
              "model_id": "5f82fce25f494425926be0ab0e5183a0",
              "version_major": 2,
              "version_minor": 0
            },
            "text/plain": [
              "tokenizer.json:   0%|          | 0.00/608k [00:00<?, ?B/s]"
            ]
          },
          "metadata": {},
          "output_type": "display_data"
        },
        {
          "data": {
            "application/vnd.jupyter.widget-view+json": {
              "model_id": "e16efbd58a6241169acd66631268dd13",
              "version_major": 2,
              "version_minor": 0
            },
            "text/plain": [
              "special_tokens_map.json:   0%|          | 0.00/695 [00:00<?, ?B/s]"
            ]
          },
          "metadata": {},
          "output_type": "display_data"
        },
        {
          "data": {
            "application/vnd.jupyter.widget-view+json": {
              "model_id": "8ceba03ca79941a398ad5657bbe765c7",
              "version_major": 2,
              "version_minor": 0
            },
            "text/plain": [
              "Map:   0%|          | 0/49532 [00:00<?, ? examples/s]"
            ]
          },
          "metadata": {},
          "output_type": "display_data"
        },
        {
          "data": {
            "application/vnd.jupyter.widget-view+json": {
              "model_id": "48a07e19134e4a1eb7040aa02bbfedcb",
              "version_major": 2,
              "version_minor": 0
            },
            "text/plain": [
              "Map:   0%|          | 0/12383 [00:00<?, ? examples/s]"
            ]
          },
          "metadata": {},
          "output_type": "display_data"
        },
        {
          "name": "stdout",
          "output_type": "stream",
          "text": [
            "DatasetDict({\n",
            "    train: Dataset({\n",
            "        features: ['article', 'category', 'word_count', 'input_ids', 'token_type_ids', 'attention_mask', 'labels'],\n",
            "        num_rows: 49532\n",
            "    })\n",
            "    test: Dataset({\n",
            "        features: ['article', 'category', 'word_count', 'input_ids', 'token_type_ids', 'attention_mask', 'labels'],\n",
            "        num_rows: 12383\n",
            "    })\n",
            "})\n"
          ]
        }
      ],
      "source": [
        "tokenized_datasets = raw_datasets.map(tokenize_function)\n",
        "#tokenized_datasets = tokenized_datasets.map(lambda examples: {'labels': examples['category']}, batched=True)\n",
        "#tokenized_datasets = tokenized_datasets.remove_columns(['article', 'category'])\n",
        "\n",
        "# Use a data collator to apply dynamic batches\n",
        "\n",
        "data_collator = DataCollatorWithPadding(tokenizer=tokenizer, return_tensors='pt')\n",
        "\n",
        "tokenized_datasets.set_format(\"torch\")\n",
        "\n",
        "print(tokenized_datasets)"
      ]
    },
    {
      "cell_type": "code",
      "execution_count": null,
      "metadata": {
        "colab": {
          "referenced_widgets": [
            "6a9fe9f473a24e91a575f2bcd3e8a4b9",
            "35ac89a9aca641fe930e7b50fdf96e36"
          ]
        },
        "execution": {
          "iopub.execute_input": "2024-05-30T14:24:07.090970Z",
          "iopub.status.busy": "2024-05-30T14:24:07.090583Z",
          "iopub.status.idle": "2024-05-30T14:24:10.156559Z",
          "shell.execute_reply": "2024-05-30T14:24:10.155296Z",
          "shell.execute_reply.started": "2024-05-30T14:24:07.090934Z"
        },
        "id": "sdlDkDQSiJoE",
        "outputId": "6af71da9-2366-4163-a583-295cbfdad6b6",
        "trusted": true
      },
      "outputs": [
        {
          "data": {
            "application/vnd.jupyter.widget-view+json": {
              "model_id": "6a9fe9f473a24e91a575f2bcd3e8a4b9",
              "version_major": 2,
              "version_minor": 0
            },
            "text/plain": [
              "config.json:   0%|          | 0.00/648 [00:00<?, ?B/s]"
            ]
          },
          "metadata": {},
          "output_type": "display_data"
        },
        {
          "data": {
            "application/vnd.jupyter.widget-view+json": {
              "model_id": "35ac89a9aca641fe930e7b50fdf96e36",
              "version_major": 2,
              "version_minor": 0
            },
            "text/plain": [
              "model.safetensors:   0%|          | 0.00/103M [00:00<?, ?B/s]"
            ]
          },
          "metadata": {},
          "output_type": "display_data"
        },
        {
          "name": "stderr",
          "output_type": "stream",
          "text": [
            "Some weights of BertForSequenceClassification were not initialized from the model checkpoint at rasyosef/bert-small-amharic and are newly initialized: ['bert.pooler.dense.bias', 'bert.pooler.dense.weight', 'classifier.bias', 'classifier.weight']\n",
            "You should probably TRAIN this model on a down-stream task to be able to use it for predictions and inference.\n"
          ]
        }
      ],
      "source": [
        "# Load the model\n",
        "\n",
        "from transformers import AutoModelForSequenceClassification\n",
        "\n",
        "# roberta-base\n",
        "\n",
        "model = AutoModelForSequenceClassification.from_pretrained(\n",
        "    checkpoint,\n",
        "    num_labels=len(category),\n",
        "    id2label = {i: lbl for i, lbl in enumerate(category)},\n",
        "    label2id = {lbl: i for i, lbl in enumerate(category)},\n",
        "    device_map=\"cuda\"\n",
        ")"
      ]
    },
    {
      "cell_type": "code",
      "execution_count": null,
      "metadata": {
        "execution": {
          "iopub.execute_input": "2024-05-30T14:24:10.161828Z",
          "iopub.status.busy": "2024-05-30T14:24:10.161388Z",
          "iopub.status.idle": "2024-05-30T14:24:10.224241Z",
          "shell.execute_reply": "2024-05-30T14:24:10.223476Z",
          "shell.execute_reply.started": "2024-05-30T14:24:10.161791Z"
        },
        "id": "1z1onqOfiJoG",
        "trusted": true
      },
      "outputs": [],
      "source": [
        "from transformers import TrainingArguments\n",
        "\n",
        "batch_size = 64\n",
        "epochs = 5\n",
        "\n",
        "training_args = TrainingArguments(\n",
        "    output_dir=checkpoint+\"-finetuned\",\n",
        "    learning_rate=2e-5,\n",
        "    per_device_train_batch_size=batch_size,\n",
        "    per_device_eval_batch_size=batch_size,\n",
        "    num_train_epochs=epochs,\n",
        "    weight_decay=0.1,\n",
        "    evaluation_strategy=\"epoch\",\n",
        "    save_strategy=\"epoch\",\n",
        "    logging_strategy=\"epoch\",\n",
        "    load_best_model_at_end=True,\n",
        "    metric_for_best_model=\"f1\",\n",
        "    fp16=True,\n",
        "    seed=42,\n",
        ")\n"
      ]
    },
    {
      "cell_type": "code",
      "execution_count": null,
      "metadata": {
        "execution": {
          "iopub.execute_input": "2024-05-30T15:16:46.595651Z",
          "iopub.status.busy": "2024-05-30T15:16:46.595273Z",
          "iopub.status.idle": "2024-05-30T15:16:48.597991Z",
          "shell.execute_reply": "2024-05-30T15:16:48.596975Z",
          "shell.execute_reply.started": "2024-05-30T15:16:46.595619Z"
        },
        "id": "6FvPjfgyiJoI",
        "outputId": "532a6c38-c23f-4a22-b71d-f0f21285860e",
        "trusted": true
      },
      "outputs": [
        {
          "data": {
            "text/plain": [
              "{'accuracy': 1.0, 'precision': 1.0, 'recall': 1.0, 'f1': 1.0}"
            ]
          },
          "execution_count": 37,
          "metadata": {},
          "output_type": "execute_result"
        }
      ],
      "source": [
        "import evaluate\n",
        "import numpy as np\n",
        "\n",
        "def compute_metrics(eval_preds):\n",
        "  metric1 = evaluate.load(\"accuracy\")\n",
        "  metric2 = evaluate.load(\"precision\")\n",
        "  metric3 = evaluate.load(\"recall\")\n",
        "  metric4 = evaluate.load(\"f1\")\n",
        "\n",
        "  logits, labels = eval_preds\n",
        "  predictions = np.argmax(logits, axis=-1)\n",
        "\n",
        "  accuracy = metric1.compute(predictions=predictions, references=labels)[\"accuracy\"]\n",
        "  precision = metric2.compute(predictions=predictions, references=labels, average='weighted')[\"precision\"]\n",
        "  recall = metric3.compute(predictions=predictions, references=labels, average='weighted')[\"recall\"]\n",
        "  f1 = metric4.compute(predictions=predictions, references=labels, average='weighted')[\"f1\"]\n",
        "\n",
        "  return {\n",
        "      \"accuracy\": accuracy,\n",
        "      \"precision\": precision,\n",
        "      \"recall\": recall,\n",
        "      \"f1\": f1\n",
        "  }\n",
        "\n",
        "compute_metrics(([[1,0], [0,1]], [0,1]))"
      ]
    },
    {
      "cell_type": "code",
      "execution_count": null,
      "metadata": {
        "execution": {
          "iopub.execute_input": "2024-05-30T15:16:54.683357Z",
          "iopub.status.busy": "2024-05-30T15:16:54.682462Z",
          "iopub.status.idle": "2024-05-30T15:50:06.480852Z",
          "shell.execute_reply": "2024-05-30T15:50:06.479563Z",
          "shell.execute_reply.started": "2024-05-30T15:16:54.683302Z"
        },
        "id": "E2yiwdpxiJoK",
        "outputId": "54250398-5319-4951-d462-7ec2c0956e00",
        "trusted": true
      },
      "outputs": [
        {
          "name": "stderr",
          "output_type": "stream",
          "text": [
            "/opt/conda/lib/python3.10/site-packages/accelerate/accelerator.py:436: FutureWarning: Passing the following arguments to `Accelerator` is deprecated and will be removed in version 1.0 of Accelerate: dict_keys(['dispatch_batches', 'split_batches', 'even_batches', 'use_seedable_sampler']). Please pass an `accelerate.DataLoaderConfiguration` instead: \n",
            "dataloader_config = DataLoaderConfiguration(dispatch_batches=None, split_batches=False, even_batches=True, use_seedable_sampler=True)\n",
            "  warnings.warn(\n"
          ]
        },
        {
          "data": {
            "text/html": [
              "\n",
              "    <div>\n",
              "      \n",
              "      <progress value='3870' max='3870' style='width:300px; height:20px; vertical-align: middle;'></progress>\n",
              "      [3870/3870 33:10, Epoch 5/5]\n",
              "    </div>\n",
              "    <table border=\"1\" class=\"dataframe\">\n",
              "  <thead>\n",
              " <tr style=\"text-align: left;\">\n",
              "      <th>Epoch</th>\n",
              "      <th>Training Loss</th>\n",
              "      <th>Validation Loss</th>\n",
              "      <th>Accuracy</th>\n",
              "      <th>Precision</th>\n",
              "      <th>Recall</th>\n",
              "      <th>F1</th>\n",
              "    </tr>\n",
              "  </thead>\n",
              "  <tbody>\n",
              "    <tr>\n",
              "      <td>1</td>\n",
              "      <td>0.257800</td>\n",
              "      <td>0.355941</td>\n",
              "      <td>0.872809</td>\n",
              "      <td>0.874915</td>\n",
              "      <td>0.872809</td>\n",
              "      <td>0.872637</td>\n",
              "    </tr>\n",
              "    <tr>\n",
              "      <td>2</td>\n",
              "      <td>0.202900</td>\n",
              "      <td>0.366543</td>\n",
              "      <td>0.879835</td>\n",
              "      <td>0.882212</td>\n",
              "      <td>0.879835</td>\n",
              "      <td>0.879827</td>\n",
              "    </tr>\n",
              "    <tr>\n",
              "      <td>3</td>\n",
              "      <td>0.168900</td>\n",
              "      <td>0.387127</td>\n",
              "      <td>0.877897</td>\n",
              "      <td>0.877604</td>\n",
              "      <td>0.877897</td>\n",
              "      <td>0.877458</td>\n",
              "    </tr>\n",
              "    <tr>\n",
              "      <td>4</td>\n",
              "      <td>0.149400</td>\n",
              "      <td>0.393662</td>\n",
              "      <td>0.878785</td>\n",
              "      <td>0.878166</td>\n",
              "      <td>0.878785</td>\n",
              "      <td>0.878390</td>\n",
              "    </tr>\n",
              "    <tr>\n",
              "      <td>5</td>\n",
              "      <td>0.139400</td>\n",
              "      <td>0.403864</td>\n",
              "      <td>0.877816</td>\n",
              "      <td>0.877487</td>\n",
              "      <td>0.877816</td>\n",
              "      <td>0.877440</td>\n",
              "    </tr>\n",
              "  </tbody>\n",
              "</table><p>"
            ],
            "text/plain": [
              "<IPython.core.display.HTML object>"
            ]
          },
          "metadata": {},
          "output_type": "display_data"
        },
        {
          "name": "stderr",
          "output_type": "stream",
          "text": [
            "/opt/conda/lib/python3.10/site-packages/sklearn/metrics/_classification.py:1344: UndefinedMetricWarning: Precision is ill-defined and being set to 0.0 in labels with no predicted samples. Use `zero_division` parameter to control this behavior.\n",
            "  _warn_prf(average, modifier, msg_start, len(result))\n",
            "/opt/conda/lib/python3.10/site-packages/sklearn/metrics/_classification.py:1344: UndefinedMetricWarning: Precision is ill-defined and being set to 0.0 in labels with no predicted samples. Use `zero_division` parameter to control this behavior.\n",
            "  _warn_prf(average, modifier, msg_start, len(result))\n",
            "/opt/conda/lib/python3.10/site-packages/sklearn/metrics/_classification.py:1344: UndefinedMetricWarning: Precision is ill-defined and being set to 0.0 in labels with no predicted samples. Use `zero_division` parameter to control this behavior.\n",
            "  _warn_prf(average, modifier, msg_start, len(result))\n",
            "/opt/conda/lib/python3.10/site-packages/sklearn/metrics/_classification.py:1344: UndefinedMetricWarning: Precision is ill-defined and being set to 0.0 in labels with no predicted samples. Use `zero_division` parameter to control this behavior.\n",
            "  _warn_prf(average, modifier, msg_start, len(result))\n",
            "/opt/conda/lib/python3.10/site-packages/sklearn/metrics/_classification.py:1344: UndefinedMetricWarning: Precision is ill-defined and being set to 0.0 in labels with no predicted samples. Use `zero_division` parameter to control this behavior.\n",
            "  _warn_prf(average, modifier, msg_start, len(result))\n"
          ]
        },
        {
          "data": {
            "text/plain": [
              "TrainOutput(global_step=3870, training_loss=0.1836711873687823, metrics={'train_runtime': 1991.1542, 'train_samples_per_second': 124.38, 'train_steps_per_second': 1.944, 'total_flos': 9796823106416640.0, 'train_loss': 0.1836711873687823, 'epoch': 5.0})"
            ]
          },
          "execution_count": 38,
          "metadata": {},
          "output_type": "execute_result"
        }
      ],
      "source": [
        "from transformers import Trainer\n",
        "\n",
        "trainer = Trainer(\n",
        "    model=model,\n",
        "    args=training_args,\n",
        "    train_dataset=tokenized_datasets[\"train\"],\n",
        "    eval_dataset=tokenized_datasets[\"test\"],\n",
        "    tokenizer=tokenizer,\n",
        "    data_collator=data_collator,\n",
        "    compute_metrics=compute_metrics,\n",
        ")\n",
        "\n",
        "trainer.train()"
      ]
    },
    {
      "cell_type": "code",
      "execution_count": null,
      "metadata": {
        "execution": {
          "iopub.execute_input": "2024-05-30T15:50:26.786895Z",
          "iopub.status.busy": "2024-05-30T15:50:26.786129Z",
          "iopub.status.idle": "2024-05-30T15:51:03.314295Z",
          "shell.execute_reply": "2024-05-30T15:51:03.312869Z",
          "shell.execute_reply.started": "2024-05-30T15:50:26.786857Z"
        },
        "id": "cuRDqxtHiJoL",
        "trusted": true
      },
      "outputs": [],
      "source": [
        "import torch\n",
        "device = torch.device('cuda' if torch.cuda.is_available() else 'cpu')\n",
        "# Load metrics and evaluate the model\n",
        "\n",
        "from torch.utils.data import DataLoader\n",
        "eval_dataset = tokenized_datasets[\"test\"].remove_columns([\n",
        "    'article', 'category', 'word_count'\n",
        "    ]).with_format(\"torch\")\n",
        "\n",
        "\n",
        "\n",
        "eval_dataloader = DataLoader(\n",
        "    eval_dataset,\n",
        "    shuffle=True,\n",
        "    batch_size=16,\n",
        "    collate_fn=data_collator,\n",
        ")\n",
        "\n",
        "y_test, y_pred = [], []\n",
        "model.eval()\n",
        "for batch in eval_dataloader:\n",
        "    batch = {k: v.to('cuda') for k, v in batch.items()}\n",
        "    with torch.no_grad():\n",
        "        outputs = model(**batch)\n",
        "\n",
        "    logits = outputs.logits\n",
        "    predictions = torch.argmax(logits, dim=-1)\n",
        "    y_pred.extend(predictions.cpu().numpy())\n",
        "    y_test.extend(batch[\"labels\"].cpu().numpy())\n"
      ]
    },
    {
      "cell_type": "code",
      "execution_count": null,
      "metadata": {
        "execution": {
          "iopub.execute_input": "2024-05-30T15:51:26.898857Z",
          "iopub.status.busy": "2024-05-30T15:51:26.898391Z",
          "iopub.status.idle": "2024-05-30T15:51:26.909514Z",
          "shell.execute_reply": "2024-05-30T15:51:26.907789Z",
          "shell.execute_reply.started": "2024-05-30T15:51:26.898823Z"
        },
        "id": "aADOOG8wiJoM",
        "trusted": true
      },
      "outputs": [],
      "source": [
        "import evaluate\n",
        "import numpy as np\n",
        "\n",
        "def compute_metrics(y_pred, y_test):\n",
        "  metric1 = evaluate.load(\"accuracy\")\n",
        "  metric2 = evaluate.load(\"precision\")\n",
        "  metric3 = evaluate.load(\"recall\")\n",
        "  metric4 = evaluate.load(\"f1\")\n",
        "\n",
        "  #logits, labels = y_preds\n",
        "  #predictions = np.argmax(logits, axis=-1)\n",
        "\n",
        "  accuracy = metric1.compute(predictions=y_pred, references=y_test)[\"accuracy\"]\n",
        "  precision = metric2.compute(predictions=y_pred, references=y_test, average='weighted')[\"precision\"]\n",
        "  recall = metric3.compute(predictions=y_pred, references=y_test, average='weighted')[\"recall\"]\n",
        "  f1 = metric4.compute(predictions=y_pred, references=y_test, average='weighted')[\"f1\"]\n",
        "\n",
        "  return {\n",
        "      \"accuracy\": accuracy,\n",
        "      \"precision\": precision,\n",
        "      \"recall\": recall,\n",
        "      \"f1\": f1\n",
        "  }\n"
      ]
    },
    {
      "cell_type": "markdown",
      "metadata": {
        "id": "pDib-iggiJr5"
      },
      "source": []
    },
    {
      "cell_type": "code",
      "execution_count": null,
      "metadata": {
        "execution": {
          "iopub.execute_input": "2024-05-30T15:03:31.915215Z",
          "iopub.status.busy": "2024-05-30T15:03:31.914398Z",
          "iopub.status.idle": "2024-05-30T15:03:35.144089Z",
          "shell.execute_reply": "2024-05-30T15:03:35.142956Z",
          "shell.execute_reply.started": "2024-05-30T15:03:31.915180Z"
        },
        "id": "gLela_lIiJr_",
        "outputId": "024dde76-0421-4097-9b55-2a0bfad7b679",
        "trusted": true
      },
      "outputs": [
        {
          "name": "stderr",
          "output_type": "stream",
          "text": [
            "/opt/conda/lib/python3.10/site-packages/sklearn/metrics/_classification.py:1344: UndefinedMetricWarning: Precision is ill-defined and being set to 0.0 in labels with no predicted samples. Use `zero_division` parameter to control this behavior.\n",
            "  _warn_prf(average, modifier, msg_start, len(result))\n"
          ]
        },
        {
          "data": {
            "text/plain": [
              "{'accuracy': 0.8761204877654849,\n",
              " 'precision': 0.7220551122788942,\n",
              " 'recall': 0.7356290230304802,\n",
              " 'f1': 0.7285139172493781}"
            ]
          },
          "execution_count": 24,
          "metadata": {},
          "output_type": "execute_result"
        }
      ],
      "source": [
        "compute_metrics(y_pred, y_test)"
      ]
    },
    {
      "cell_type": "code",
      "execution_count": null,
      "metadata": {
        "execution": {
          "iopub.execute_input": "2024-05-30T15:51:38.585611Z",
          "iopub.status.busy": "2024-05-30T15:51:38.585188Z",
          "iopub.status.idle": "2024-05-30T15:51:42.154374Z",
          "shell.execute_reply": "2024-05-30T15:51:42.153158Z",
          "shell.execute_reply.started": "2024-05-30T15:51:38.585576Z"
        },
        "id": "dr6dwyk_iJsB",
        "outputId": "b43f8583-c2e5-4a47-b4ac-17af5913b0fb",
        "trusted": true
      },
      "outputs": [
        {
          "name": "stderr",
          "output_type": "stream",
          "text": [
            "/opt/conda/lib/python3.10/site-packages/sklearn/metrics/_classification.py:1344: UndefinedMetricWarning: Precision is ill-defined and being set to 0.0 in labels with no predicted samples. Use `zero_division` parameter to control this behavior.\n",
            "  _warn_prf(average, modifier, msg_start, len(result))\n"
          ]
        },
        {
          "data": {
            "text/plain": [
              "{'accuracy': 0.8798352580150206,\n",
              " 'precision': 0.8822123910985895,\n",
              " 'recall': 0.8798352580150206,\n",
              " 'f1': 0.8798268986044279}"
            ]
          },
          "execution_count": 41,
          "metadata": {},
          "output_type": "execute_result"
        }
      ],
      "source": [
        "compute_metrics(y_pred, y_test)"
      ]
    },
    {
      "cell_type": "code",
      "execution_count": null,
      "metadata": {
        "execution": {
          "iopub.execute_input": "2024-05-30T15:11:45.222966Z",
          "iopub.status.busy": "2024-05-30T15:11:45.222582Z",
          "iopub.status.idle": "2024-05-30T15:11:46.213107Z",
          "shell.execute_reply": "2024-05-30T15:11:46.212082Z",
          "shell.execute_reply.started": "2024-05-30T15:11:45.222936Z"
        },
        "id": "GjfUndBciJsD",
        "outputId": "eaedc264-a8b3-455b-9715-a3c85a968f0f",
        "trusted": true
      },
      "outputs": [
        {
          "data": {
            "text/plain": [
              "{'f1': 0.8757126049284634}"
            ]
          },
          "execution_count": 35,
          "metadata": {},
          "output_type": "execute_result"
        }
      ],
      "source": [
        "metric = evaluate.load(\"f1\")\n",
        "metric.compute(predictions=y_pred, references=y_test, average='weighted')"
      ]
    },
    {
      "cell_type": "code",
      "execution_count": null,
      "metadata": {
        "execution": {
          "iopub.execute_input": "2024-05-30T15:07:33.186989Z",
          "iopub.status.busy": "2024-05-30T15:07:33.186018Z",
          "iopub.status.idle": "2024-05-30T15:07:37.145195Z",
          "shell.execute_reply": "2024-05-30T15:07:37.144046Z",
          "shell.execute_reply.started": "2024-05-30T15:07:33.186952Z"
        },
        "id": "804Zoq5uiJsF",
        "trusted": true
      },
      "outputs": [],
      "source": [
        "import pandas as pd\n",
        "df = pd.read_csv('/kaggle/input/amharic-news-corpus-merged/Amharic_corpus_merged_2023-04-16.csv')"
      ]
    },
    {
      "cell_type": "code",
      "execution_count": null,
      "metadata": {
        "execution": {
          "iopub.execute_input": "2024-05-30T15:07:41.262792Z",
          "iopub.status.busy": "2024-05-30T15:07:41.261940Z",
          "iopub.status.idle": "2024-05-30T15:07:41.272873Z",
          "shell.execute_reply": "2024-05-30T15:07:41.271920Z",
          "shell.execute_reply.started": "2024-05-30T15:07:41.262741Z"
        },
        "id": "rO-X9iTUiJsG",
        "outputId": "1e276299-f8b1-4054-8328-aa5f2c2ef498",
        "trusted": true
      },
      "outputs": [
        {
          "data": {
            "text/plain": [
              "Index(['article', 'category'], dtype='object')"
            ]
          },
          "execution_count": 30,
          "metadata": {},
          "output_type": "execute_result"
        }
      ],
      "source": [
        "df.columns"
      ]
    },
    {
      "cell_type": "code",
      "execution_count": null,
      "metadata": {
        "execution": {
          "iopub.execute_input": "2024-05-30T15:08:08.126164Z",
          "iopub.status.busy": "2024-05-30T15:08:08.125806Z",
          "iopub.status.idle": "2024-05-30T15:08:08.148325Z",
          "shell.execute_reply": "2024-05-30T15:08:08.147500Z",
          "shell.execute_reply.started": "2024-05-30T15:08:08.126134Z"
        },
        "id": "DtxhS4BziJsH",
        "outputId": "00581978-335b-4118-dee2-ad4bfe0a647c",
        "trusted": true
      },
      "outputs": [
        {
          "data": {
            "text/plain": [
              "category\n",
              "Local News            0.333909\n",
              "Politics              0.233885\n",
              "Sports                0.168150\n",
              "Business              0.148106\n",
              "International News    0.105677\n",
              "Entertainment         0.010256\n",
              "Others                0.000016\n",
              "Name: proportion, dtype: float64"
            ]
          },
          "execution_count": 32,
          "metadata": {},
          "output_type": "execute_result"
        }
      ],
      "source": [
        "df['category'].value_counts(normalize='true')"
      ]
    },
    {
      "cell_type": "code",
      "execution_count": null,
      "metadata": {
        "id": "W8lILdxciJsJ"
      },
      "outputs": [],
      "source": []
    }
  ],
  "metadata": {
    "colab": {
      "provenance": []
    },
    "kaggle": {
      "accelerator": "nvidiaTeslaT4",
      "dataSources": [
        {
          "datasetId": 3141921,
          "sourceId": 5495819,
          "sourceType": "datasetVersion"
        }
      ],
      "dockerImageVersionId": 30699,
      "isGpuEnabled": true,
      "isInternetEnabled": true,
      "language": "python",
      "sourceType": "notebook"
    },
    "kernelspec": {
      "display_name": "Python 3",
      "language": "python",
      "name": "python3"
    },
    "language_info": {
      "codemirror_mode": {
        "name": "ipython",
        "version": 3
      },
      "file_extension": ".py",
      "mimetype": "text/x-python",
      "name": "python",
      "nbconvert_exporter": "python",
      "pygments_lexer": "ipython3",
      "version": "3.8.10"
    }
  },
  "nbformat": 4,
  "nbformat_minor": 0
}
